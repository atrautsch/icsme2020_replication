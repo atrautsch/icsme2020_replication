{
 "cells": [
  {
   "cell_type": "code",
   "execution_count": null,
   "metadata": {},
   "outputs": [],
   "source": [
    "%matplotlib inline\n",
    "\n",
    "import os\n",
    "from dateutil.relativedelta import relativedelta\n",
    "\n",
    "import numpy as np\n",
    "import pandas as pd\n",
    "import matplotlib.pyplot as plt\n",
    "from scipy import stats\n",
    "\n",
    "PROJECTS = ['ant-ivy', 'archiva', 'calcite', 'cayenne', 'commons-bcel', 'commons-beanutils',\n",
    "            'commons-codec', 'commons-collections', 'commons-compress', 'commons-configuration',\n",
    "            'commons-dbcp', 'commons-digester', 'commons-io', 'commons-jcs', 'commons-jexl',\n",
    "            'commons-lang', 'commons-math', 'commons-net', 'commons-scxml', \n",
    "            'commons-validator', 'commons-vfs', 'deltaspike', 'eagle', 'giraph', 'gora', 'jspwiki',\n",
    "            'knox', 'kylin', 'lens', 'mahout', 'manifoldcf','nutch','opennlp','parquet-mr',\n",
    "            'santuario-java', 'systemml', 'tika', 'wss4j']\n",
    "\n",
    "DATA_PATH = '../data/'\n",
    "FIGURES_PATH = '../figures/'\n",
    "\n",
    "RANDOM_SEED = 42\n",
    "np.random.seed(RANDOM_SEED)"
   ]
  },
  {
   "cell_type": "markdown",
   "metadata": {},
   "source": [
    "# Load train/test data"
   ]
  },
  {
   "cell_type": "code",
   "execution_count": null,
   "metadata": {},
   "outputs": [],
   "source": [
    "r = pd.read_csv('{}/train_test_all.csv'.format(DATA_PATH))"
   ]
  },
  {
   "cell_type": "markdown",
   "metadata": {},
   "source": [
    "# Logistic Regression train/test plots"
   ]
  },
  {
   "cell_type": "code",
   "execution_count": null,
   "metadata": {},
   "outputs": [],
   "source": [
    "for plot_name, lbl_name in zip(['bug', 'ad-hoc', 'commit'], ['bug_label', 'adhoc_label', 'pascarella_commit']):\n",
    "    for pn1, ms1 in [('F-measure', 'lr_f1'), ('AUC', 'lr_roc_auc')]:\n",
    "        fig = plt.figure(figsize=(5,2))\n",
    "        ax = fig.add_subplot(111)\n",
    "        plt.title('Logistic Regression')\n",
    "        bp = []\n",
    "        names = []\n",
    "        for pn, ms in [('combined', 'jit_static_pmd'), ('jit', 'jit'), ('static', 'static'), ('pmd', 'pmd')]:\n",
    "            bp.append(r[(r['metric_set'] == ms) & (r['label'] == lbl_name)][ms1].values)\n",
    "            names.append(pn)\n",
    "        ax.boxplot(bp)\n",
    "        for i, (name, bp) in enumerate(zip(names, bp)):\n",
    "            y = bp\n",
    "            x = np.random.normal(1+i, 0.05, size=len(y))\n",
    "            ax.plot(x, y, 'k.', alpha=0.2)\n",
    "        ax.set_xticklabels(names)\n",
    "        ax.set_ylabel(pn1)\n",
    "        ax.set_ylim([0,1])\n",
    "        plt.show()\n",
    "        #plt.tight_layout()\n",
    "        #plt.savefig(FIGURES_PATH + '/tt_{}_{}.pdf'.format(ms1, lbl_name))"
   ]
  },
  {
   "cell_type": "markdown",
   "metadata": {},
   "source": [
    "# Random Forest train/test plots"
   ]
  },
  {
   "cell_type": "code",
   "execution_count": null,
   "metadata": {},
   "outputs": [],
   "source": [
    "for plot_name, lbl_name in zip(['bug', 'ad-hoc', 'commit'], ['bug_label', 'adhoc_label', 'pascarella_commit']):\n",
    "    for pn1, ms1 in [('F-measure', 'rf_f1'), ('AUC', 'rf_roc_auc')]:\n",
    "        fig = plt.figure(figsize=(5,2))\n",
    "        ax = fig.add_subplot(111)\n",
    "        plt.title('Random Forest')\n",
    "        bp = []\n",
    "        names = []\n",
    "        for pn, ms in [('combined', 'jit_static_pmd'), ('jit', 'jit'), ('static', 'static'), ('pmd', 'pmd')]:\n",
    "            bp.append(r[(r['metric_set'] == ms) & (r['label'] == lbl_name)][ms1].values)\n",
    "            names.append(pn)\n",
    "        ax.boxplot(bp)\n",
    "        for i, (name, bp) in enumerate(zip(names, bp)):\n",
    "            y = bp\n",
    "            x = np.random.normal(1+i, 0.05, size=len(y))\n",
    "            ax.plot(x, y, 'k.', alpha=0.2)\n",
    "        ax.set_xticklabels(names)\n",
    "        ax.set_ylabel(pn1)\n",
    "        ax.set_ylim([0,1])\n",
    "        plt.show()\n",
    "        #plt.tight_layout()\n",
    "        #plt.savefig(FIGURES_PATH + '/tt_{}_{}.pdf'.format(ms1, lbl_name))"
   ]
  },
  {
   "cell_type": "markdown",
   "metadata": {},
   "source": [
    "# Cost model"
   ]
  },
  {
   "cell_type": "code",
   "execution_count": null,
   "metadata": {},
   "outputs": [],
   "source": [
    "dats = []\n",
    "for project in r['project'].unique():\n",
    "    for plot_name, lbl_name in zip(['bug', 'adhoc'], ['bug_label', 'adhoc_label']):\n",
    "        df = r[(r['label'] == lbl_name) & (r['metric_set'] != 'jit_statc') & (r['project'] == project)].copy()\n",
    "        for metric_set in df['metric_set'].unique():\n",
    "            tmp = df[df['metric_set'] == metric_set]\n",
    "            dats.append({'classifier': 'Random Forest', 'project': project, 'feature_set': metric_set, 'ub': tmp['rf_ub'].values[0], 'lb': tmp['rf_lb'].values[0], 'label': plot_name})\n",
    "            dats.append({'classifier': 'Logistic Regression', 'project': project, 'feature_set': metric_set, 'ub': tmp['lr_ub'].values[0], 'lb': tmp['lr_lb'].values[0], 'label': plot_name})\n",
    "\n",
    "test = pd.DataFrame(dats)\n",
    "\n",
    "print('projects', test['project'].nunique())\n",
    "for label in test['label'].unique():\n",
    "    for cl in test['classifier'].unique():\n",
    "        for ms in test['feature_set'].unique():\n",
    "            if ms not in ['jit', 'static', 'pmd', 'jit_static_pmd']:\n",
    "                continue\n",
    "            tmp = test[(test['label'] == label) & (test['classifier'] == cl) & (test['feature_set'] == ms) & (np.isfinite(test['ub'])) & (np.isfinite(test['lb'])) & (test['ub'] > test['lb'])]\n",
    "            s = np.sum(tmp['ub'] - tmp['lb'])\n",
    "            print(label, cl, ms, len(tmp))"
   ]
  },
  {
   "cell_type": "code",
   "execution_count": null,
   "metadata": {},
   "outputs": [],
   "source": [
    "dats = []\n",
    "for project in r['project'].unique():\n",
    "    for plot_name, lbl_name in zip(['bug', 'adhoc'], ['bug_label', 'adhoc_label']):\n",
    "        df = r[(r['label'] == lbl_name) & (r['metric_set'] != 'jit_statc') & (r['project'] == project)].copy()\n",
    "        for metric_set in df['metric_set'].unique():\n",
    "            tmp = df[df['metric_set'] == metric_set]\n",
    "            dats.append({'classifier': 'Random Forest', 'project': project, 'feature_set': metric_set, 'ub': tmp['rf_ub'].values[0], 'lb': tmp['rf_lb'].values[0], 'label': plot_name})\n",
    "            dats.append({'classifier': 'Logistic Regression', 'project': project, 'feature_set': metric_set, 'ub': tmp['lr_ub'].values[0], 'lb': tmp['lr_lb'].values[0], 'label': plot_name})\n",
    "\n",
    "test = pd.DataFrame(dats)\n",
    "\n",
    "print('projects', test['project'].nunique())\n",
    "for label in test['label'].unique():\n",
    "    for ms in test['feature_set'].unique():\n",
    "        if ms not in ['jit', 'static', 'pmd', 'jit_static_pmd']:\n",
    "            continue\n",
    "        tmp = test[(test['label'] == label) & (test['feature_set'] == ms) & (np.isfinite(test['ub'])) & (np.isfinite(test['lb'])) & (test['ub'] > test['lb'])]\n",
    "        s = np.sum(tmp['ub'] - tmp['lb'])\n",
    "        print(label, ms, len(tmp) / 2)"
   ]
  }
 ],
 "metadata": {
  "kernelspec": {
   "display_name": "Python 3",
   "language": "python",
   "name": "python3"
  },
  "language_info": {
   "codemirror_mode": {
    "name": "ipython",
    "version": 3
   },
   "file_extension": ".py",
   "mimetype": "text/x-python",
   "name": "python",
   "nbconvert_exporter": "python",
   "pygments_lexer": "ipython3",
   "version": "3.8.3"
  }
 },
 "nbformat": 4,
 "nbformat_minor": 4
}
